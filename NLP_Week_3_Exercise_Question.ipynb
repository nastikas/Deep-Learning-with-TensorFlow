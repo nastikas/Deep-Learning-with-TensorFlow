{
  "nbformat": 4,
  "nbformat_minor": 0,
  "metadata": {
    "accelerator": "GPU",
    "colab": {
      "name": "NLP - Week 3 Exercise Question.ipynb",
      "provenance": [],
      "include_colab_link": true
    },
    "kernelspec": {
      "display_name": "Python 3",
      "name": "python3"
    }
  },
  "cells": [
    {
      "cell_type": "markdown",
      "metadata": {
        "id": "view-in-github",
        "colab_type": "text"
      },
      "source": [
        "<a href=\"https://colab.research.google.com/github/nastikas/Deep-Learning-with-TensorFlow/blob/master/NLP_Week_3_Exercise_Question.ipynb\" target=\"_parent\"><img src=\"https://colab.research.google.com/assets/colab-badge.svg\" alt=\"Open In Colab\"/></a>"
      ]
    },
    {
      "cell_type": "code",
      "metadata": {
        "id": "zX4Kg8DUTKWO",
        "colab_type": "code",
        "colab": {}
      },
      "source": [
        "#@title Licensed under the Apache License, Version 2.0 (the \"License\");\n",
        "# you may not use this file except in compliance with the License.\n",
        "# You may obtain a copy of the License at\n",
        "#\n",
        "# https://www.apache.org/licenses/LICENSE-2.0\n",
        "#\n",
        "# Unless required by applicable law or agreed to in writing, software\n",
        "# distributed under the License is distributed on an \"AS IS\" BASIS,\n",
        "# WITHOUT WARRANTIES OR CONDITIONS OF ANY KIND, either express or implied.\n",
        "# See the License for the specific language governing permissions and\n",
        "# limitations under the License."
      ],
      "execution_count": null,
      "outputs": []
    },
    {
      "cell_type": "code",
      "metadata": {
        "colab_type": "code",
        "id": "hmA6EzkQJ5jt",
        "colab": {}
      },
      "source": [
        "import json\n",
        "import tensorflow as tf\n",
        "import csv\n",
        "import random\n",
        "import numpy as np\n",
        "\n",
        "from tensorflow.keras.preprocessing.text import Tokenizer\n",
        "from tensorflow.keras.preprocessing.sequence import pad_sequences\n",
        "from tensorflow.keras.utils import to_categorical\n",
        "from tensorflow.keras import regularizers\n",
        "\n",
        "\n",
        "embedding_dim = 100\n",
        "max_length = 16\n",
        "trunc_type='post'\n",
        "padding_type='post'\n",
        "oov_tok = \"<OOV>\"\n",
        "training_size= 16000 #Your dataset size here. Experiment using smaller values (i.e. 16000), but don't forget to train on at least 160000 to see the best effects\n",
        "test_portion=.1\n",
        "\n",
        "corpus = []\n"
      ],
      "execution_count": 1,
      "outputs": []
    },
    {
      "cell_type": "code",
      "metadata": {
        "colab_type": "code",
        "id": "bM0l_dORKqE0",
        "colab": {
          "base_uri": "https://localhost:8080/",
          "height": 204
        },
        "outputId": "5a51187d-300d-4f69-e0ca-78da067dadc4"
      },
      "source": [
        "# Note that I cleaned the Stanford dataset to remove LATIN1 encoding to make it easier for Python CSV reader\n",
        "# You can do that yourself with:\n",
        "# iconv -f LATIN1 -t UTF8 training.1600000.processed.noemoticon.csv -o training_cleaned.csv\n",
        "# I then hosted it on my site to make it easier to use in this notebook\n",
        "\n",
        "!wget --no-check-certificate \\\n",
        "    https://storage.googleapis.com/laurencemoroney-blog.appspot.com/training_cleaned.csv \\\n",
        "    -O /tmp/training_cleaned.csv\n",
        "\n",
        "num_sentences = 0\n",
        "\n",
        "with open(\"/tmp/training_cleaned.csv\") as csvfile:\n",
        "    reader = csv.reader(csvfile, delimiter=',')\n",
        "    for row in reader:\n",
        "      # Your Code here. Create list items where the first item is the text, found in row[5], and the second is the label. \n",
        "      # Note that the label is a '0' or a '4' in the text. When it's the former, make\n",
        "      # your label to be 0, otherwise 1. Keep a count of the number of sentences in num_sentences\n",
        "        \n",
        "        list_item=[]\n",
        "        list_item.append(row[5])\n",
        "        label = row[0]\n",
        "        if label == '0':\n",
        "          list_item.append(0)\n",
        "        else:\n",
        "          list_item.append(1)\n",
        "        \n",
        "        \n",
        "        num_sentences = num_sentences + 1\n",
        "        corpus.append(list_item)\n"
      ],
      "execution_count": 3,
      "outputs": [
        {
          "output_type": "stream",
          "text": [
            "--2020-09-01 00:43:27--  https://storage.googleapis.com/laurencemoroney-blog.appspot.com/training_cleaned.csv\n",
            "Resolving storage.googleapis.com (storage.googleapis.com)... 74.125.142.128, 74.125.195.128, 74.125.20.128, ...\n",
            "Connecting to storage.googleapis.com (storage.googleapis.com)|74.125.142.128|:443... connected.\n",
            "HTTP request sent, awaiting response... 200 OK\n",
            "Length: 238942690 (228M) [application/octet-stream]\n",
            "Saving to: ‘/tmp/training_cleaned.csv’\n",
            "\n",
            "/tmp/training_clean 100%[===================>] 227.87M   211MB/s    in 1.1s    \n",
            "\n",
            "2020-09-01 00:43:29 (211 MB/s) - ‘/tmp/training_cleaned.csv’ saved [238942690/238942690]\n",
            "\n"
          ],
          "name": "stdout"
        }
      ]
    },
    {
      "cell_type": "code",
      "metadata": {
        "colab_type": "code",
        "id": "3kxblBUjEUX-",
        "colab": {
          "base_uri": "https://localhost:8080/",
          "height": 68
        },
        "outputId": "3fdfe932-2875-4ecd-c6f7-9100cc9b057d"
      },
      "source": [
        "print(num_sentences)\n",
        "print(len(corpus))\n",
        "print(corpus[1])\n",
        "\n",
        "# Expected Output:\n",
        "# 1600000\n",
        "# 1600000\n",
        "# [\"is upset that he can't update his Facebook by texting it... and might cry as a result  School today also. Blah!\", 0]"
      ],
      "execution_count": 4,
      "outputs": [
        {
          "output_type": "stream",
          "text": [
            "1600000\n",
            "1600000\n",
            "[\"is upset that he can't update his Facebook by texting it... and might cry as a result  School today also. Blah!\", 0]\n"
          ],
          "name": "stdout"
        }
      ]
    },
    {
      "cell_type": "code",
      "metadata": {
        "colab_type": "code",
        "id": "ohOGz24lsNAD",
        "colab": {}
      },
      "source": [
        "sentences=[]\n",
        "labels=[]\n",
        "random.shuffle(corpus)\n",
        "for x in range(training_size):\n",
        "    sentences.append(corpus[x][0])\n",
        "    labels.append(corpus[x][1])\n",
        "\n",
        "\n",
        "tokenizer = Tokenizer()\n",
        "tokenizer.fit_on_texts(sentences)\n",
        "\n",
        "word_index = tokenizer.word_index\n",
        "vocab_size=len(word_index)\n",
        "\n",
        "sequences = tokenizer.texts_to_sequences(sentences)\n",
        "padded = pad_sequences(sequences, maxlen=max_length, padding=padding_type, truncating=trunc_type)\n",
        "\n",
        "split = int(test_portion * training_size)\n",
        "\n",
        "test_sequences = padded[0:split]\n",
        "training_sequences = padded[split:training_size]\n",
        "test_labels = labels[0:split]\n",
        "training_labels = labels[split:training_size]"
      ],
      "execution_count": 11,
      "outputs": []
    },
    {
      "cell_type": "code",
      "metadata": {
        "colab_type": "code",
        "id": "gIrtRem1En3N",
        "colab": {
          "base_uri": "https://localhost:8080/",
          "height": 51
        },
        "outputId": "b8823e51-3c3c-47aa-c2b2-d1488add0716"
      },
      "source": [
        "print(vocab_size)\n",
        "print(word_index['i'])\n",
        "# Expected Output\n",
        "# 138858\n",
        "# 1"
      ],
      "execution_count": 12,
      "outputs": [
        {
          "output_type": "stream",
          "text": [
            "26632\n",
            "1\n"
          ],
          "name": "stdout"
        }
      ]
    },
    {
      "cell_type": "code",
      "metadata": {
        "colab_type": "code",
        "id": "C1zdgJkusRh0",
        "colab": {
          "base_uri": "https://localhost:8080/",
          "height": 204
        },
        "outputId": "8837e32a-222d-420d-f18e-cccab4fc9918"
      },
      "source": [
        "# Note this is the 100 dimension version of GloVe from Stanford\n",
        "# I unzipped and hosted it on my site to make this notebook easier\n",
        "!wget --no-check-certificate \\\n",
        "    https://storage.googleapis.com/laurencemoroney-blog.appspot.com/glove.6B.100d.txt \\\n",
        "    -O /tmp/glove.6B.100d.txt\n",
        "embeddings_index = {};\n",
        "with open('/tmp/glove.6B.100d.txt') as f:\n",
        "    for line in f:\n",
        "        values = line.split();\n",
        "        word = values[0];\n",
        "        coefs = np.asarray(values[1:], dtype='float32');\n",
        "        embeddings_index[word] = coefs;\n",
        "\n",
        "embeddings_matrix = np.zeros((vocab_size+1, embedding_dim));\n",
        "for word, i in word_index.items():\n",
        "    embedding_vector = embeddings_index.get(word);\n",
        "    if embedding_vector is not None:\n",
        "        embeddings_matrix[i] = embedding_vector;"
      ],
      "execution_count": 13,
      "outputs": [
        {
          "output_type": "stream",
          "text": [
            "--2020-09-01 00:52:23--  https://storage.googleapis.com/laurencemoroney-blog.appspot.com/glove.6B.100d.txt\n",
            "Resolving storage.googleapis.com (storage.googleapis.com)... 74.125.28.128, 74.125.142.128, 74.125.20.128, ...\n",
            "Connecting to storage.googleapis.com (storage.googleapis.com)|74.125.28.128|:443... connected.\n",
            "HTTP request sent, awaiting response... 200 OK\n",
            "Length: 347116733 (331M) [text/plain]\n",
            "Saving to: ‘/tmp/glove.6B.100d.txt’\n",
            "\n",
            "/tmp/glove.6B.100d. 100%[===================>] 331.04M   112MB/s    in 3.0s    \n",
            "\n",
            "2020-09-01 00:52:26 (112 MB/s) - ‘/tmp/glove.6B.100d.txt’ saved [347116733/347116733]\n",
            "\n"
          ],
          "name": "stdout"
        }
      ]
    },
    {
      "cell_type": "code",
      "metadata": {
        "colab_type": "code",
        "id": "71NLk_lpFLNt",
        "colab": {
          "base_uri": "https://localhost:8080/",
          "height": 34
        },
        "outputId": "92f20470-c822-46e9-c890-98a687abaa1b"
      },
      "source": [
        "print(len(embeddings_matrix))\n",
        "# Expected Output\n",
        "# 138859"
      ],
      "execution_count": 14,
      "outputs": [
        {
          "output_type": "stream",
          "text": [
            "26633\n"
          ],
          "name": "stdout"
        }
      ]
    },
    {
      "cell_type": "code",
      "metadata": {
        "colab_type": "code",
        "id": "iKKvbuEBOGFz",
        "colab": {
          "base_uri": "https://localhost:8080/",
          "height": 1000
        },
        "outputId": "3e49bc74-99a6-4ca8-e15e-5e2d5aa84b61"
      },
      "source": [
        "model = tf.keras.Sequential([\n",
        "    tf.keras.layers.Embedding(vocab_size+1, embedding_dim, input_length=max_length, weights=[embeddings_matrix], trainable=False),\n",
        "    tf.keras.layers.Dropout(0.2),\n",
        "    tf.keras.layers.Conv1D(64, 5, activation='relu'),\n",
        "    tf.keras.layers.MaxPooling1D(pool_size=4),\n",
        "    tf.keras.layers.LSTM(64),\n",
        "    tf.keras.layers.Dense(1, activation='sigmoid')\n",
        "])\n",
        "model.compile(loss='binary_crossentropy',optimizer='adam',metrics=['accuracy'])\n",
        "model.summary()\n",
        "training_padded = np.array(training_sequences)\n",
        "training_labels = np.array(training_labels)\n",
        "testing_padded = np.array(test_sequences)\n",
        "testing_labels = np.array(test_labels)\n",
        "num_epochs = 50\n",
        "history = model.fit(training_padded, training_labels, epochs=num_epochs, validation_data=(testing_padded, testing_labels), verbose=2)\n",
        "\n",
        "print(\"Training Complete\")\n"
      ],
      "execution_count": 17,
      "outputs": [
        {
          "output_type": "stream",
          "text": [
            "Model: \"sequential_2\"\n",
            "_________________________________________________________________\n",
            "Layer (type)                 Output Shape              Param #   \n",
            "=================================================================\n",
            "embedding_2 (Embedding)      (None, 16, 100)           2663300   \n",
            "_________________________________________________________________\n",
            "dropout_2 (Dropout)          (None, 16, 100)           0         \n",
            "_________________________________________________________________\n",
            "conv1d_2 (Conv1D)            (None, 12, 64)            32064     \n",
            "_________________________________________________________________\n",
            "max_pooling1d_2 (MaxPooling1 (None, 3, 64)             0         \n",
            "_________________________________________________________________\n",
            "lstm_2 (LSTM)                (None, 64)                33024     \n",
            "_________________________________________________________________\n",
            "dense_2 (Dense)              (None, 1)                 65        \n",
            "=================================================================\n",
            "Total params: 2,728,453\n",
            "Trainable params: 65,153\n",
            "Non-trainable params: 2,663,300\n",
            "_________________________________________________________________\n",
            "Epoch 1/50\n",
            "450/450 - 2s - loss: 0.6282 - accuracy: 0.6381 - val_loss: 0.5922 - val_accuracy: 0.6931\n",
            "Epoch 2/50\n",
            "450/450 - 1s - loss: 0.5733 - accuracy: 0.6960 - val_loss: 0.6016 - val_accuracy: 0.6662\n",
            "Epoch 3/50\n",
            "450/450 - 1s - loss: 0.5440 - accuracy: 0.7194 - val_loss: 0.5688 - val_accuracy: 0.7025\n",
            "Epoch 4/50\n",
            "450/450 - 2s - loss: 0.5105 - accuracy: 0.7428 - val_loss: 0.5677 - val_accuracy: 0.7031\n",
            "Epoch 5/50\n",
            "450/450 - 2s - loss: 0.4878 - accuracy: 0.7620 - val_loss: 0.6017 - val_accuracy: 0.6819\n",
            "Epoch 6/50\n",
            "450/450 - 2s - loss: 0.4627 - accuracy: 0.7769 - val_loss: 0.5802 - val_accuracy: 0.7038\n",
            "Epoch 7/50\n",
            "450/450 - 2s - loss: 0.4320 - accuracy: 0.7976 - val_loss: 0.6520 - val_accuracy: 0.6894\n",
            "Epoch 8/50\n",
            "450/450 - 2s - loss: 0.4111 - accuracy: 0.8074 - val_loss: 0.5989 - val_accuracy: 0.7013\n",
            "Epoch 9/50\n",
            "450/450 - 2s - loss: 0.3904 - accuracy: 0.8217 - val_loss: 0.5970 - val_accuracy: 0.7025\n",
            "Epoch 10/50\n",
            "450/450 - 2s - loss: 0.3685 - accuracy: 0.8360 - val_loss: 0.6871 - val_accuracy: 0.6700\n",
            "Epoch 11/50\n",
            "450/450 - 2s - loss: 0.3515 - accuracy: 0.8437 - val_loss: 0.6386 - val_accuracy: 0.7013\n",
            "Epoch 12/50\n",
            "450/450 - 2s - loss: 0.3354 - accuracy: 0.8491 - val_loss: 0.6965 - val_accuracy: 0.6888\n",
            "Epoch 13/50\n",
            "450/450 - 2s - loss: 0.3326 - accuracy: 0.8506 - val_loss: 0.6855 - val_accuracy: 0.6888\n",
            "Epoch 14/50\n",
            "450/450 - 1s - loss: 0.3099 - accuracy: 0.8623 - val_loss: 0.6898 - val_accuracy: 0.6975\n",
            "Epoch 15/50\n",
            "450/450 - 2s - loss: 0.3058 - accuracy: 0.8660 - val_loss: 0.7262 - val_accuracy: 0.6800\n",
            "Epoch 16/50\n",
            "450/450 - 2s - loss: 0.2887 - accuracy: 0.8760 - val_loss: 0.7506 - val_accuracy: 0.6762\n",
            "Epoch 17/50\n",
            "450/450 - 2s - loss: 0.2720 - accuracy: 0.8833 - val_loss: 0.7997 - val_accuracy: 0.6825\n",
            "Epoch 18/50\n",
            "450/450 - 2s - loss: 0.2683 - accuracy: 0.8851 - val_loss: 0.7540 - val_accuracy: 0.6913\n",
            "Epoch 19/50\n",
            "450/450 - 2s - loss: 0.2672 - accuracy: 0.8853 - val_loss: 0.7744 - val_accuracy: 0.6869\n",
            "Epoch 20/50\n",
            "450/450 - 2s - loss: 0.2495 - accuracy: 0.8980 - val_loss: 0.8493 - val_accuracy: 0.6806\n",
            "Epoch 21/50\n",
            "450/450 - 2s - loss: 0.2424 - accuracy: 0.9008 - val_loss: 0.8271 - val_accuracy: 0.6825\n",
            "Epoch 22/50\n",
            "450/450 - 2s - loss: 0.2374 - accuracy: 0.9011 - val_loss: 0.8084 - val_accuracy: 0.6794\n",
            "Epoch 23/50\n",
            "450/450 - 2s - loss: 0.2253 - accuracy: 0.9038 - val_loss: 0.8586 - val_accuracy: 0.6744\n",
            "Epoch 24/50\n",
            "450/450 - 2s - loss: 0.2359 - accuracy: 0.9010 - val_loss: 0.8779 - val_accuracy: 0.6625\n",
            "Epoch 25/50\n",
            "450/450 - 2s - loss: 0.2224 - accuracy: 0.9053 - val_loss: 0.9296 - val_accuracy: 0.6669\n",
            "Epoch 26/50\n",
            "450/450 - 2s - loss: 0.2131 - accuracy: 0.9114 - val_loss: 0.9215 - val_accuracy: 0.6637\n",
            "Epoch 27/50\n",
            "450/450 - 2s - loss: 0.2164 - accuracy: 0.9093 - val_loss: 0.8825 - val_accuracy: 0.6669\n",
            "Epoch 28/50\n",
            "450/450 - 2s - loss: 0.2000 - accuracy: 0.9185 - val_loss: 0.9228 - val_accuracy: 0.6725\n",
            "Epoch 29/50\n",
            "450/450 - 2s - loss: 0.1943 - accuracy: 0.9192 - val_loss: 0.9541 - val_accuracy: 0.6825\n",
            "Epoch 30/50\n",
            "450/450 - 2s - loss: 0.1995 - accuracy: 0.9174 - val_loss: 0.9290 - val_accuracy: 0.6712\n",
            "Epoch 31/50\n",
            "450/450 - 2s - loss: 0.1870 - accuracy: 0.9226 - val_loss: 1.0106 - val_accuracy: 0.6675\n",
            "Epoch 32/50\n",
            "450/450 - 2s - loss: 0.1944 - accuracy: 0.9203 - val_loss: 0.9282 - val_accuracy: 0.6794\n",
            "Epoch 33/50\n",
            "450/450 - 2s - loss: 0.1869 - accuracy: 0.9262 - val_loss: 0.9294 - val_accuracy: 0.6750\n",
            "Epoch 34/50\n",
            "450/450 - 2s - loss: 0.1806 - accuracy: 0.9258 - val_loss: 0.9675 - val_accuracy: 0.6862\n",
            "Epoch 35/50\n",
            "450/450 - 2s - loss: 0.1734 - accuracy: 0.9294 - val_loss: 1.0032 - val_accuracy: 0.6794\n",
            "Epoch 36/50\n",
            "450/450 - 2s - loss: 0.1667 - accuracy: 0.9348 - val_loss: 0.9637 - val_accuracy: 0.6750\n",
            "Epoch 37/50\n",
            "450/450 - 2s - loss: 0.1769 - accuracy: 0.9260 - val_loss: 0.9918 - val_accuracy: 0.6612\n",
            "Epoch 38/50\n",
            "450/450 - 2s - loss: 0.1686 - accuracy: 0.9306 - val_loss: 1.0269 - val_accuracy: 0.6725\n",
            "Epoch 39/50\n",
            "450/450 - 2s - loss: 0.1677 - accuracy: 0.9316 - val_loss: 1.0379 - val_accuracy: 0.6819\n",
            "Epoch 40/50\n",
            "450/450 - 2s - loss: 0.1633 - accuracy: 0.9352 - val_loss: 1.0238 - val_accuracy: 0.6712\n",
            "Epoch 41/50\n",
            "450/450 - 2s - loss: 0.1586 - accuracy: 0.9347 - val_loss: 1.0748 - val_accuracy: 0.6644\n",
            "Epoch 42/50\n",
            "450/450 - 2s - loss: 0.1532 - accuracy: 0.9385 - val_loss: 1.0839 - val_accuracy: 0.6575\n",
            "Epoch 43/50\n",
            "450/450 - 2s - loss: 0.1595 - accuracy: 0.9370 - val_loss: 1.0778 - val_accuracy: 0.6675\n",
            "Epoch 44/50\n",
            "450/450 - 2s - loss: 0.1513 - accuracy: 0.9389 - val_loss: 1.0796 - val_accuracy: 0.6706\n",
            "Epoch 45/50\n",
            "450/450 - 2s - loss: 0.1535 - accuracy: 0.9408 - val_loss: 1.1113 - val_accuracy: 0.6612\n",
            "Epoch 46/50\n",
            "450/450 - 2s - loss: 0.1393 - accuracy: 0.9439 - val_loss: 1.1359 - val_accuracy: 0.6731\n",
            "Epoch 47/50\n",
            "450/450 - 2s - loss: 0.1397 - accuracy: 0.9436 - val_loss: 1.1316 - val_accuracy: 0.6644\n",
            "Epoch 48/50\n",
            "450/450 - 2s - loss: 0.1397 - accuracy: 0.9456 - val_loss: 1.1229 - val_accuracy: 0.6750\n",
            "Epoch 49/50\n",
            "450/450 - 2s - loss: 0.1411 - accuracy: 0.9425 - val_loss: 1.1283 - val_accuracy: 0.6831\n",
            "Epoch 50/50\n",
            "450/450 - 2s - loss: 0.1357 - accuracy: 0.9462 - val_loss: 1.1219 - val_accuracy: 0.6737\n",
            "Training Complete\n"
          ],
          "name": "stdout"
        }
      ]
    },
    {
      "cell_type": "code",
      "metadata": {
        "colab_type": "code",
        "id": "qxju4ItJKO8F",
        "colab": {
          "base_uri": "https://localhost:8080/",
          "height": 607
        },
        "outputId": "29e549f8-2db9-40ba-aa08-fd222a57a6c1"
      },
      "source": [
        "import matplotlib.image  as mpimg\n",
        "import matplotlib.pyplot as plt\n",
        "\n",
        "#-----------------------------------------------------------\n",
        "# Retrieve a list of list results on training and test data\n",
        "# sets for each training epoch\n",
        "#-----------------------------------------------------------\n",
        "acc=history.history['accuracy']\n",
        "val_acc=history.history['val_accuracy']\n",
        "loss=history.history['loss']\n",
        "val_loss=history.history['val_loss']\n",
        "\n",
        "epochs=range(len(acc)) # Get number of epochs\n",
        "\n",
        "#------------------------------------------------\n",
        "# Plot training and validation accuracy per epoch\n",
        "#------------------------------------------------\n",
        "plt.plot(epochs, acc, 'r')\n",
        "plt.plot(epochs, val_acc, 'b')\n",
        "plt.title('Training and validation accuracy')\n",
        "plt.xlabel(\"Epochs\")\n",
        "plt.ylabel(\"Accuracy\")\n",
        "plt.legend([\"Accuracy\", \"Validation Accuracy\"])\n",
        "\n",
        "plt.figure()\n",
        "\n",
        "#------------------------------------------------\n",
        "# Plot training and validation loss per epoch\n",
        "#------------------------------------------------\n",
        "plt.plot(epochs, loss, 'r')\n",
        "plt.plot(epochs, val_loss, 'b')\n",
        "plt.title('Training and validation loss')\n",
        "plt.xlabel(\"Epochs\")\n",
        "plt.ylabel(\"Loss\")\n",
        "plt.legend([\"Loss\", \"Validation Loss\"])\n",
        "\n",
        "plt.figure()\n",
        "\n",
        "\n",
        "# Expected Output\n",
        "# A chart where the validation loss does not increase sharply!"
      ],
      "execution_count": 18,
      "outputs": [
        {
          "output_type": "execute_result",
          "data": {
            "text/plain": [
              "<Figure size 432x288 with 0 Axes>"
            ]
          },
          "metadata": {
            "tags": []
          },
          "execution_count": 18
        },
        {
          "output_type": "display_data",
          "data": {
            "image/png": "[encoded data removed]",
            "text/plain": [
              "<Figure size 432x288 with 1 Axes>"
            ]
          },
          "metadata": {
            "tags": [],
            "needs_background": "light"
          }
        },
        {
          "output_type": "display_data",
          "data": {
            "image/png": "[encoded data removed]",
            "text/plain": [
              "<Figure size 432x288 with 1 Axes>"
            ]
          },
          "metadata": {
            "tags": [],
            "needs_background": "light"
          }
        },
        {
          "output_type": "display_data",
          "data": {
            "text/plain": [
              "<Figure size 432x288 with 0 Axes>"
            ]
          },
          "metadata": {
            "tags": []
          }
        }
      ]
    },
    {
      "cell_type": "code",
      "metadata": {
        "id": "vL-YdrYiKCCw",
        "colab_type": "code",
        "colab": {}
      },
      "source": [
        ""
      ],
      "execution_count": null,
      "outputs": []
    }
  ]
}