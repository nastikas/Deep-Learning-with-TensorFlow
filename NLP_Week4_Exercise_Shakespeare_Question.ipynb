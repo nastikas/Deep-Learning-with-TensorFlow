{
  "nbformat": 4,
  "nbformat_minor": 0,
  "metadata": {
    "accelerator": "GPU",
    "colab": {
      "name": "NLP_Week4_Exercise_Shakespeare_Question.ipynb",
      "provenance": [],
      "toc_visible": true,
      "include_colab_link": true
    },
    "kernelspec": {
      "display_name": "Python 3",
      "name": "python3"
    }
  },
  "cells": [
    {
      "cell_type": "markdown",
      "metadata": {
        "id": "view-in-github",
        "colab_type": "text"
      },
      "source": [
        "<a href=\"https://colab.research.google.com/github/nastikas/Deep-Learning-with-TensorFlow/blob/master/NLP_Week4_Exercise_Shakespeare_Question.ipynb\" target=\"_parent\"><img src=\"https://colab.research.google.com/assets/colab-badge.svg\" alt=\"Open In Colab\"/></a>"
      ]
    },
    {
      "cell_type": "code",
      "metadata": {
        "id": "zX4Kg8DUTKWO",
        "colab_type": "code",
        "colab": {}
      },
      "source": [
        "#@title Licensed under the Apache License, Version 2.0 (the \"License\");\n",
        "# you may not use this file except in compliance with the License.\n",
        "# You may obtain a copy of the License at\n",
        "#\n",
        "# https://www.apache.org/licenses/LICENSE-2.0\n",
        "#\n",
        "# Unless required by applicable law or agreed to in writing, software\n",
        "# distributed under the License is distributed on an \"AS IS\" BASIS,\n",
        "# WITHOUT WARRANTIES OR CONDITIONS OF ANY KIND, either express or implied.\n",
        "# See the License for the specific language governing permissions and\n",
        "# limitations under the License."
      ],
      "execution_count": null,
      "outputs": []
    },
    {
      "cell_type": "code",
      "metadata": {
        "colab_type": "code",
        "id": "BOwsuGQQY9OL",
        "colab": {}
      },
      "source": [
        "from tensorflow.keras.preprocessing.sequence import pad_sequences\n",
        "from tensorflow.keras.layers import Embedding, LSTM, Dense, Dropout, Bidirectional\n",
        "from tensorflow.keras.preprocessing.text import Tokenizer\n",
        "from tensorflow.keras.models import Sequential\n",
        "from tensorflow.keras.optimizers import Adam\n",
        "### YOUR CODE HERE\n",
        "# Figure out how to import regularizers\n",
        "###\n",
        "import tensorflow.keras.utils as ku \n",
        "import numpy as np "
      ],
      "execution_count": 2,
      "outputs": []
    },
    {
      "cell_type": "code",
      "metadata": {
        "colab_type": "code",
        "id": "PRnDnCW-Z7qv",
        "colab": {
          "base_uri": "https://localhost:8080/",
          "height": 224
        },
        "outputId": "bf341849-eeb2-47ec-ebfc-e3f0fb90f9ba"
      },
      "source": [
        "tokenizer = Tokenizer()\n",
        "!wget --no-check-certificate \\\n",
        "    https://storage.googleapis.com/laurencemoroney-blog.appspot.com/sonnets.txt \\\n",
        "    -O /tmp/sonnets.txt\n",
        "data = open('/tmp/sonnets.txt').read()\n",
        "\n",
        "corpus = data.lower().split(\"\\n\")\n",
        "\n",
        "\n",
        "tokenizer.fit_on_texts(corpus)\n",
        "total_words = len(tokenizer.word_index) + 1\n",
        "\n",
        "# create input sequences using list of tokens\n",
        "input_sequences = []\n",
        "for line in corpus:\n",
        "\ttoken_list = tokenizer.texts_to_sequences([line])[0]\n",
        "\tfor i in range(1, len(token_list)):\n",
        "\t\tn_gram_sequence = token_list[:i+1]\n",
        "\t\tinput_sequences.append(n_gram_sequence)\n",
        "\n",
        "\n",
        "# pad sequences \n",
        "max_sequence_len = max([len(x) for x in input_sequences])\n",
        "input_sequences = np.array(pad_sequences(input_sequences, maxlen=max_sequence_len, padding='pre'))\n",
        "\n",
        "# create predictors and label\n",
        "predictors, label = input_sequences[:,:-1],input_sequences[:,-1]\n",
        "\n",
        "label = ku.to_categorical(label, num_classes=total_words)"
      ],
      "execution_count": 3,
      "outputs": [
        {
          "output_type": "stream",
          "text": [
            "--2020-09-03 17:50:11--  https://storage.googleapis.com/laurencemoroney-blog.appspot.com/sonnets.txt\n",
            "Resolving storage.googleapis.com (storage.googleapis.com)... 108.177.119.128, 108.177.126.128, 108.177.127.128, ...\n",
            "Connecting to storage.googleapis.com (storage.googleapis.com)|108.177.119.128|:443... connected.\n",
            "HTTP request sent, awaiting response... 200 OK\n",
            "Length: 93578 (91K) [text/plain]\n",
            "Saving to: ‘/tmp/sonnets.txt’\n",
            "\n",
            "/tmp/sonnets.txt    100%[===================>]  91.38K  --.-KB/s    in 0.001s  \n",
            "\n",
            "2020-09-03 17:50:12 (73.3 MB/s) - ‘/tmp/sonnets.txt’ saved [93578/93578]\n",
            "\n"
          ],
          "name": "stdout"
        }
      ]
    },
    {
      "cell_type": "code",
      "metadata": {
        "colab_type": "code",
        "id": "w9vH8Y59ajYL",
        "colab": {
          "base_uri": "https://localhost:8080/",
          "height": 374
        },
        "outputId": "dc2b24ab-6cd8-4876-b936-704aac029e5a"
      },
      "source": [
        "model = Sequential()\n",
        "model.add(Embedding(total_words, 64, input_length=max_sequence_len-1))\n",
        "model.add(Bidirectional(LSTM(20, return_sequences = True)))\n",
        "model.add(Dropout(0.2))\n",
        "model.add(Bidirectional(LSTM(20)))\n",
        "model.add(Dense(total_words, activation='softmax'))\n",
        "model.add(Dense(total_words, activation='softmax'))\n",
        "adam = Adam(lr=0.01)\n",
        "model.compile(loss='categorical_crossentropy', optimizer=adam, metrics=['accuracy'])\n",
        "print(model.summary())\n"
      ],
      "execution_count": 8,
      "outputs": [
        {
          "output_type": "stream",
          "text": [
            "Model: \"sequential_2\"\n",
            "_________________________________________________________________\n",
            "Layer (type)                 Output Shape              Param #   \n",
            "=================================================================\n",
            "embedding_2 (Embedding)      (None, 10, 64)            205504    \n",
            "_________________________________________________________________\n",
            "bidirectional_2 (Bidirection (None, 10, 40)            13600     \n",
            "_________________________________________________________________\n",
            "dropout_2 (Dropout)          (None, 10, 40)            0         \n",
            "_________________________________________________________________\n",
            "bidirectional_3 (Bidirection (None, 40)                9760      \n",
            "_________________________________________________________________\n",
            "dense (Dense)                (None, 3211)              131651    \n",
            "_________________________________________________________________\n",
            "dense_1 (Dense)              (None, 3211)              10313732  \n",
            "=================================================================\n",
            "Total params: 10,674,247\n",
            "Trainable params: 10,674,247\n",
            "Non-trainable params: 0\n",
            "_________________________________________________________________\n",
            "None\n"
          ],
          "name": "stdout"
        }
      ]
    },
    {
      "cell_type": "code",
      "metadata": {
        "colab_type": "code",
        "id": "AIg2f1HBxqof",
        "colab": {
          "base_uri": "https://localhost:8080/",
          "height": 1000
        },
        "outputId": "31eb4d65-3249-4246-e22e-adb5af5ab897"
      },
      "source": [
        " history = model.fit(predictors, label, epochs=100, verbose=1)"
      ],
      "execution_count": 9,
      "outputs": [
        {
          "output_type": "stream",
          "text": [
            "Epoch 1/100\n",
            "484/484 [==============================] - 6s 13ms/step - loss: 6.9547 - accuracy: 0.0228\n",
            "Epoch 2/100\n",
            "484/484 [==============================] - 6s 13ms/step - loss: 6.5951 - accuracy: 0.0235\n",
            "Epoch 3/100\n",
            "484/484 [==============================] - 6s 12ms/step - loss: 6.5782 - accuracy: 0.0225\n",
            "Epoch 4/100\n",
            "484/484 [==============================] - 6s 13ms/step - loss: 6.5724 - accuracy: 0.0238\n",
            "Epoch 5/100\n",
            "484/484 [==============================] - 6s 13ms/step - loss: 6.5710 - accuracy: 0.0228\n",
            "Epoch 6/100\n",
            "484/484 [==============================] - 6s 12ms/step - loss: 6.5692 - accuracy: 0.0232\n",
            "Epoch 7/100\n",
            "484/484 [==============================] - 6s 13ms/step - loss: 6.5690 - accuracy: 0.0221\n",
            "Epoch 8/100\n",
            "484/484 [==============================] - 6s 13ms/step - loss: 6.5697 - accuracy: 0.0204\n",
            "Epoch 9/100\n",
            "484/484 [==============================] - 6s 13ms/step - loss: 6.5695 - accuracy: 0.0220\n",
            "Epoch 10/100\n",
            "484/484 [==============================] - 6s 13ms/step - loss: 6.5694 - accuracy: 0.0199\n",
            "Epoch 11/100\n",
            "484/484 [==============================] - 6s 13ms/step - loss: 6.5684 - accuracy: 0.0209\n",
            "Epoch 12/100\n",
            "484/484 [==============================] - 6s 13ms/step - loss: 6.5689 - accuracy: 0.0225\n",
            "Epoch 13/100\n",
            "484/484 [==============================] - 6s 13ms/step - loss: 6.5686 - accuracy: 0.0220\n",
            "Epoch 14/100\n",
            "484/484 [==============================] - 6s 13ms/step - loss: 6.5692 - accuracy: 0.0224\n",
            "Epoch 15/100\n",
            "484/484 [==============================] - 6s 13ms/step - loss: 6.5696 - accuracy: 0.0208\n",
            "Epoch 16/100\n",
            "484/484 [==============================] - 6s 13ms/step - loss: 6.5686 - accuracy: 0.0215\n",
            "Epoch 17/100\n",
            "484/484 [==============================] - 6s 13ms/step - loss: 6.5689 - accuracy: 0.0228\n",
            "Epoch 18/100\n",
            "484/484 [==============================] - 6s 13ms/step - loss: 6.5694 - accuracy: 0.0219\n",
            "Epoch 19/100\n",
            "484/484 [==============================] - 6s 13ms/step - loss: 6.5690 - accuracy: 0.0214\n",
            "Epoch 20/100\n",
            "484/484 [==============================] - 6s 13ms/step - loss: 6.5690 - accuracy: 0.0222\n",
            "Epoch 21/100\n",
            "484/484 [==============================] - 7s 14ms/step - loss: 6.5696 - accuracy: 0.0226\n",
            "Epoch 22/100\n",
            "484/484 [==============================] - 7s 14ms/step - loss: 6.5692 - accuracy: 0.0217\n",
            "Epoch 23/100\n",
            "484/484 [==============================] - 6s 13ms/step - loss: 6.5694 - accuracy: 0.0221\n",
            "Epoch 24/100\n",
            "484/484 [==============================] - 6s 12ms/step - loss: 6.5691 - accuracy: 0.0232\n",
            "Epoch 25/100\n",
            "484/484 [==============================] - 6s 12ms/step - loss: 6.5692 - accuracy: 0.0226\n",
            "Epoch 26/100\n",
            "484/484 [==============================] - 6s 13ms/step - loss: 6.5691 - accuracy: 0.0225\n",
            "Epoch 27/100\n",
            "484/484 [==============================] - 6s 13ms/step - loss: 6.5690 - accuracy: 0.0239\n",
            "Epoch 28/100\n",
            "484/484 [==============================] - 6s 12ms/step - loss: 6.5693 - accuracy: 0.0215\n",
            "Epoch 29/100\n",
            "484/484 [==============================] - 6s 13ms/step - loss: 6.5691 - accuracy: 0.0231\n",
            "Epoch 30/100\n",
            "484/484 [==============================] - 6s 13ms/step - loss: 6.5686 - accuracy: 0.0238\n",
            "Epoch 31/100\n",
            "484/484 [==============================] - 6s 13ms/step - loss: 6.5694 - accuracy: 0.0213\n",
            "Epoch 32/100\n",
            "484/484 [==============================] - 6s 13ms/step - loss: 6.5691 - accuracy: 0.0202\n",
            "Epoch 33/100\n",
            "484/484 [==============================] - 6s 13ms/step - loss: 6.5700 - accuracy: 0.0208\n",
            "Epoch 34/100\n",
            "484/484 [==============================] - 6s 13ms/step - loss: 6.5687 - accuracy: 0.0205\n",
            "Epoch 35/100\n",
            "484/484 [==============================] - 6s 13ms/step - loss: 6.5694 - accuracy: 0.0221\n",
            "Epoch 36/100\n",
            "484/484 [==============================] - 6s 13ms/step - loss: 6.5688 - accuracy: 0.0213\n",
            "Epoch 37/100\n",
            "484/484 [==============================] - 6s 13ms/step - loss: 6.5690 - accuracy: 0.0213\n",
            "Epoch 38/100\n",
            "484/484 [==============================] - 6s 13ms/step - loss: 6.5687 - accuracy: 0.0211\n",
            "Epoch 39/100\n",
            "484/484 [==============================] - 6s 12ms/step - loss: 6.5695 - accuracy: 0.0218\n",
            "Epoch 40/100\n",
            "484/484 [==============================] - 6s 12ms/step - loss: 6.5691 - accuracy: 0.0223\n",
            "Epoch 41/100\n",
            "484/484 [==============================] - 6s 13ms/step - loss: 6.5691 - accuracy: 0.0204\n",
            "Epoch 42/100\n",
            "484/484 [==============================] - 6s 13ms/step - loss: 6.5684 - accuracy: 0.0221\n",
            "Epoch 43/100\n",
            "484/484 [==============================] - 6s 13ms/step - loss: 6.5688 - accuracy: 0.0232\n",
            "Epoch 44/100\n",
            "484/484 [==============================] - 7s 14ms/step - loss: 6.5690 - accuracy: 0.0231\n",
            "Epoch 45/100\n",
            "484/484 [==============================] - 7s 13ms/step - loss: 6.5691 - accuracy: 0.0217\n",
            "Epoch 46/100\n",
            "484/484 [==============================] - 7s 13ms/step - loss: 6.5692 - accuracy: 0.0209\n",
            "Epoch 47/100\n",
            "484/484 [==============================] - 6s 13ms/step - loss: 6.5692 - accuracy: 0.0226\n",
            "Epoch 48/100\n",
            "484/484 [==============================] - 6s 12ms/step - loss: 6.5685 - accuracy: 0.0228\n",
            "Epoch 49/100\n",
            "484/484 [==============================] - 6s 12ms/step - loss: 6.5691 - accuracy: 0.0224\n",
            "Epoch 50/100\n",
            "484/484 [==============================] - 6s 12ms/step - loss: 6.5684 - accuracy: 0.0228\n",
            "Epoch 51/100\n",
            "484/484 [==============================] - 6s 13ms/step - loss: 6.5688 - accuracy: 0.0237\n",
            "Epoch 52/100\n",
            "484/484 [==============================] - 6s 13ms/step - loss: 6.5689 - accuracy: 0.0225\n",
            "Epoch 53/100\n",
            "484/484 [==============================] - 6s 13ms/step - loss: 6.5689 - accuracy: 0.0219\n",
            "Epoch 54/100\n",
            "484/484 [==============================] - 6s 13ms/step - loss: 6.5696 - accuracy: 0.0235\n",
            "Epoch 55/100\n",
            "484/484 [==============================] - 6s 13ms/step - loss: 6.5692 - accuracy: 0.0205\n",
            "Epoch 56/100\n",
            "484/484 [==============================] - 6s 13ms/step - loss: 6.5685 - accuracy: 0.0230\n",
            "Epoch 57/100\n",
            "484/484 [==============================] - 6s 13ms/step - loss: 6.5691 - accuracy: 0.0223\n",
            "Epoch 58/100\n",
            "484/484 [==============================] - 6s 13ms/step - loss: 6.5690 - accuracy: 0.0219\n",
            "Epoch 59/100\n",
            "484/484 [==============================] - 6s 13ms/step - loss: 6.5689 - accuracy: 0.0230\n",
            "Epoch 60/100\n",
            "484/484 [==============================] - 6s 13ms/step - loss: 6.5696 - accuracy: 0.0225\n",
            "Epoch 61/100\n",
            "484/484 [==============================] - 7s 13ms/step - loss: 6.5692 - accuracy: 0.0241\n",
            "Epoch 62/100\n",
            "484/484 [==============================] - 6s 13ms/step - loss: 6.5691 - accuracy: 0.0201\n",
            "Epoch 63/100\n",
            "484/484 [==============================] - 6s 12ms/step - loss: 6.5691 - accuracy: 0.0219\n",
            "Epoch 64/100\n",
            "484/484 [==============================] - 6s 13ms/step - loss: 6.5692 - accuracy: 0.0189\n",
            "Epoch 65/100\n",
            "484/484 [==============================] - 6s 13ms/step - loss: 6.5685 - accuracy: 0.0228\n",
            "Epoch 66/100\n",
            "484/484 [==============================] - 6s 13ms/step - loss: 6.5695 - accuracy: 0.0217\n",
            "Epoch 67/100\n",
            "484/484 [==============================] - 6s 13ms/step - loss: 6.5692 - accuracy: 0.0244\n",
            "Epoch 68/100\n",
            "484/484 [==============================] - 6s 13ms/step - loss: 6.5688 - accuracy: 0.0228\n",
            "Epoch 69/100\n",
            "484/484 [==============================] - 6s 12ms/step - loss: 6.5687 - accuracy: 0.0219\n",
            "Epoch 70/100\n",
            "484/484 [==============================] - 6s 13ms/step - loss: 6.5691 - accuracy: 0.0230\n",
            "Epoch 71/100\n",
            "484/484 [==============================] - 7s 15ms/step - loss: 6.5695 - accuracy: 0.0232\n",
            "Epoch 72/100\n",
            "484/484 [==============================] - 6s 13ms/step - loss: 6.5692 - accuracy: 0.0222\n",
            "Epoch 73/100\n",
            "484/484 [==============================] - 6s 13ms/step - loss: 6.5691 - accuracy: 0.0224\n",
            "Epoch 74/100\n",
            "484/484 [==============================] - 6s 13ms/step - loss: 6.5686 - accuracy: 0.0221\n",
            "Epoch 75/100\n",
            "484/484 [==============================] - 6s 13ms/step - loss: 6.5693 - accuracy: 0.0231\n",
            "Epoch 76/100\n",
            "484/484 [==============================] - 6s 13ms/step - loss: 6.5694 - accuracy: 0.0226\n",
            "Epoch 77/100\n",
            "484/484 [==============================] - 6s 13ms/step - loss: 6.5690 - accuracy: 0.0225\n",
            "Epoch 78/100\n",
            "484/484 [==============================] - 6s 12ms/step - loss: 6.5696 - accuracy: 0.0214\n",
            "Epoch 79/100\n",
            "484/484 [==============================] - 6s 13ms/step - loss: 6.5691 - accuracy: 0.0224\n",
            "Epoch 80/100\n",
            "484/484 [==============================] - 6s 13ms/step - loss: 6.5690 - accuracy: 0.0211\n",
            "Epoch 81/100\n",
            "484/484 [==============================] - 6s 13ms/step - loss: 6.5698 - accuracy: 0.0215\n",
            "Epoch 82/100\n",
            "484/484 [==============================] - 6s 13ms/step - loss: 6.5690 - accuracy: 0.0230\n",
            "Epoch 83/100\n",
            "484/484 [==============================] - 6s 13ms/step - loss: 6.5696 - accuracy: 0.0215\n",
            "Epoch 84/100\n",
            "484/484 [==============================] - 7s 13ms/step - loss: 6.5694 - accuracy: 0.0208\n",
            "Epoch 85/100\n",
            "484/484 [==============================] - 6s 13ms/step - loss: 6.5690 - accuracy: 0.0215\n",
            "Epoch 86/100\n",
            "484/484 [==============================] - 6s 13ms/step - loss: 6.5691 - accuracy: 0.0216\n",
            "Epoch 87/100\n",
            "484/484 [==============================] - 7s 14ms/step - loss: 6.5689 - accuracy: 0.0229\n",
            "Epoch 88/100\n",
            "484/484 [==============================] - 6s 12ms/step - loss: 6.5692 - accuracy: 0.0230\n",
            "Epoch 89/100\n",
            "484/484 [==============================] - 6s 13ms/step - loss: 6.5692 - accuracy: 0.0219\n",
            "Epoch 90/100\n",
            "484/484 [==============================] - 6s 13ms/step - loss: 6.5689 - accuracy: 0.0227\n",
            "Epoch 91/100\n",
            "484/484 [==============================] - 6s 13ms/step - loss: 6.5689 - accuracy: 0.0241\n",
            "Epoch 92/100\n",
            "484/484 [==============================] - 6s 13ms/step - loss: 6.5691 - accuracy: 0.0215\n",
            "Epoch 93/100\n",
            "484/484 [==============================] - 6s 12ms/step - loss: 6.5693 - accuracy: 0.0248\n",
            "Epoch 94/100\n",
            "484/484 [==============================] - 6s 13ms/step - loss: 6.5686 - accuracy: 0.0207\n",
            "Epoch 95/100\n",
            "484/484 [==============================] - 6s 13ms/step - loss: 6.5687 - accuracy: 0.0211\n",
            "Epoch 96/100\n",
            "484/484 [==============================] - 6s 13ms/step - loss: 6.5692 - accuracy: 0.0217\n",
            "Epoch 97/100\n",
            "484/484 [==============================] - 6s 13ms/step - loss: 6.5695 - accuracy: 0.0213\n",
            "Epoch 98/100\n",
            "484/484 [==============================] - 7s 14ms/step - loss: 6.5696 - accuracy: 0.0205\n",
            "Epoch 99/100\n",
            "484/484 [==============================] - 6s 13ms/step - loss: 6.5693 - accuracy: 0.0232\n",
            "Epoch 100/100\n",
            "484/484 [==============================] - 6s 13ms/step - loss: 6.5698 - accuracy: 0.0225\n"
          ],
          "name": "stdout"
        }
      ]
    },
    {
      "cell_type": "code",
      "metadata": {
        "colab_type": "code",
        "id": "1fXTEO3GJ282",
        "colab": {
          "base_uri": "https://localhost:8080/",
          "height": 545
        },
        "outputId": "9dc14d68-d49e-4cba-f277-a7f38736ea8c"
      },
      "source": [
        "import matplotlib.pyplot as plt\n",
        "acc = history.history['accuracy']\n",
        "loss = history.history['loss']\n",
        "\n",
        "epochs = range(len(acc))\n",
        "\n",
        "plt.plot(epochs, acc, 'b', label='Training accuracy')\n",
        "plt.title('Training accuracy')\n",
        "\n",
        "plt.figure()\n",
        "\n",
        "plt.plot(epochs, loss, 'b', label='Training Loss')\n",
        "plt.title('Training loss')\n",
        "plt.legend()\n",
        "\n",
        "plt.show()"
      ],
      "execution_count": 10,
      "outputs": [
        {
          "output_type": "display_data",
          "data": {
            "image/png": "[encoded data removed]",
            "text/plain": [
              "<Figure size 432x288 with 1 Axes>"
            ]
          },
          "metadata": {
            "tags": [],
            "needs_background": "light"
          }
        },
        {
          "output_type": "display_data",
          "data": {
            "image/png": "[encoded data removed]",
            "text/plain": [
              "<Figure size 432x288 with 1 Axes>"
            ]
          },
          "metadata": {
            "tags": [],
            "needs_background": "light"
          }
        }
      ]
    },
    {
      "cell_type": "code",
      "metadata": {
        "colab_type": "code",
        "id": "6Vc6PHgxa6Hm",
        "colab": {
          "base_uri": "https://localhost:8080/",
          "height": 105
        },
        "outputId": "e9996af6-caef-48b2-cb3a-ac055c2be4ab"
      },
      "source": [
        "seed_text = \"Help me Obi Wan Kenobi, you're my only hope\"\n",
        "next_words = 100\n",
        "  \n",
        "for _ in range(next_words):\n",
        "\ttoken_list = tokenizer.texts_to_sequences([seed_text])[0]\n",
        "\ttoken_list = pad_sequences([token_list], maxlen=max_sequence_len-1, padding='pre')\n",
        "\tpredicted = model.predict_classes(token_list, verbose=0)\n",
        "\toutput_word = \"\"\n",
        "\tfor word, index in tokenizer.word_index.items():\n",
        "\t\tif index == predicted:\n",
        "\t\t\toutput_word = word\n",
        "\t\t\tbreak\n",
        "\tseed_text += \" \" + output_word\n",
        "print(seed_text)"
      ],
      "execution_count": 11,
      "outputs": [
        {
          "output_type": "stream",
          "text": [
            "WARNING:tensorflow:From <ipython-input-11-622d307fa19a>:7: Sequential.predict_classes (from tensorflow.python.keras.engine.sequential) is deprecated and will be removed after 2021-01-01.\n",
            "Instructions for updating:\n",
            "Please use instead:* `np.argmax(model.predict(x), axis=-1)`,   if your model does multi-class classification   (e.g. if it uses a `softmax` last-layer activation).* `(model.predict(x) > 0.5).astype(\"int32\")`,   if your model does binary classification   (e.g. if it uses a `sigmoid` last-layer activation).\n",
            "Help me Obi Wan Kenobi, you're my only hope my my my my my my my my my my my my my my my my my my my my my my my my my my my my my my my my my my my my my my my my my my my my my my my my my my my my my my my my my my my my my my my my my my my my my my my my my my my my my my my my my my my my my my my my my my my my my my my my my my my my\n"
          ],
          "name": "stdout"
        }
      ]
    },
    {
      "cell_type": "code",
      "metadata": {
        "id": "9c5Fe43YHRq3",
        "colab_type": "code",
        "colab": {}
      },
      "source": [
        "from tensorflow.keras import regularizers"
      ],
      "execution_count": 14,
      "outputs": []
    },
    {
      "cell_type": "code",
      "metadata": {
        "colab_type": "code",
        "id": "p3ra93P5JxwC",
        "colab": {
          "base_uri": "https://localhost:8080/",
          "height": 374
        },
        "outputId": "5760f349-d355-4e88-add2-f7cae36b78ec"
      },
      "source": [
        "model = Sequential()\n",
        "model.add(Embedding(total_words, 100, input_length=max_sequence_len-1))\n",
        "model.add(Bidirectional(LSTM(150, return_sequences = True)))\n",
        "model.add(Dropout(0.2))\n",
        "model.add(Bidirectional(LSTM(100)))\n",
        "model.add(Dense(total_words/2, activation='relu', kernel_regularizer=regularizers.l2(0.01)))\n",
        "model.add(Dense(total_words, activation='softmax'))\n",
        "\n",
        "adam = Adam(lr=0.01)\n",
        "model.compile(loss='categorical_crossentropy', optimizer=adam, metrics=['accuracy'])\n",
        "print(model.summary())\n"
      ],
      "execution_count": 18,
      "outputs": [
        {
          "output_type": "stream",
          "text": [
            "Model: \"sequential_6\"\n",
            "_________________________________________________________________\n",
            "Layer (type)                 Output Shape              Param #   \n",
            "=================================================================\n",
            "embedding_6 (Embedding)      (None, 10, 100)           321100    \n",
            "_________________________________________________________________\n",
            "bidirectional_10 (Bidirectio (None, 10, 300)           301200    \n",
            "_________________________________________________________________\n",
            "dropout_6 (Dropout)          (None, 10, 300)           0         \n",
            "_________________________________________________________________\n",
            "bidirectional_11 (Bidirectio (None, 200)               320800    \n",
            "_________________________________________________________________\n",
            "dense_8 (Dense)              (None, 1605)              322605    \n",
            "_________________________________________________________________\n",
            "dense_9 (Dense)              (None, 3211)              5156866   \n",
            "=================================================================\n",
            "Total params: 6,422,571\n",
            "Trainable params: 6,422,571\n",
            "Non-trainable params: 0\n",
            "_________________________________________________________________\n",
            "None\n"
          ],
          "name": "stdout"
        }
      ]
    },
    {
      "cell_type": "code",
      "metadata": {
        "id": "_v8dGBaPJ4_S",
        "colab_type": "code",
        "colab": {}
      },
      "source": [
        ""
      ],
      "execution_count": 18,
      "outputs": []
    },
    {
      "cell_type": "code",
      "metadata": {
        "colab_type": "code",
        "id": "yJVea_RuKAUY",
        "colab": {
          "base_uri": "https://localhost:8080/",
          "height": 1000
        },
        "outputId": "a93895d7-33b6-46b2-9b88-fdcdbfd010cd"
      },
      "source": [
        " history = model.fit(predictors, label, epochs=100, verbose=1)"
      ],
      "execution_count": 19,
      "outputs": [
        {
          "output_type": "stream",
          "text": [
            "Epoch 1/100\n",
            "484/484 [==============================] - 7s 15ms/step - loss: 6.8982 - accuracy: 0.0226\n",
            "Epoch 2/100\n",
            "484/484 [==============================] - 7s 14ms/step - loss: 6.5020 - accuracy: 0.0263\n",
            "Epoch 3/100\n",
            "484/484 [==============================] - 7s 14ms/step - loss: 6.3801 - accuracy: 0.0274\n",
            "Epoch 4/100\n",
            "484/484 [==============================] - 7s 14ms/step - loss: 6.3225 - accuracy: 0.0288\n",
            "Epoch 5/100\n",
            "484/484 [==============================] - 7s 14ms/step - loss: 6.2659 - accuracy: 0.0316\n",
            "Epoch 6/100\n",
            "484/484 [==============================] - 7s 14ms/step - loss: 6.2293 - accuracy: 0.0296\n",
            "Epoch 7/100\n",
            "484/484 [==============================] - 7s 14ms/step - loss: 6.2200 - accuracy: 0.0312\n",
            "Epoch 8/100\n",
            "484/484 [==============================] - 7s 14ms/step - loss: 6.1802 - accuracy: 0.0338\n",
            "Epoch 9/100\n",
            "484/484 [==============================] - 7s 14ms/step - loss: 6.1546 - accuracy: 0.0334\n",
            "Epoch 10/100\n",
            "484/484 [==============================] - 7s 14ms/step - loss: 6.1287 - accuracy: 0.0360\n",
            "Epoch 11/100\n",
            "484/484 [==============================] - 7s 14ms/step - loss: 6.0849 - accuracy: 0.0372\n",
            "Epoch 12/100\n",
            "484/484 [==============================] - 7s 14ms/step - loss: 6.0550 - accuracy: 0.0413\n",
            "Epoch 13/100\n",
            "484/484 [==============================] - 7s 14ms/step - loss: 6.0401 - accuracy: 0.0431\n",
            "Epoch 14/100\n",
            "484/484 [==============================] - 7s 14ms/step - loss: 5.9849 - accuracy: 0.0454\n",
            "Epoch 15/100\n",
            "484/484 [==============================] - 7s 14ms/step - loss: 5.9446 - accuracy: 0.0462\n",
            "Epoch 16/100\n",
            "484/484 [==============================] - 7s 15ms/step - loss: 5.9274 - accuracy: 0.0466\n",
            "Epoch 17/100\n",
            "484/484 [==============================] - 7s 15ms/step - loss: 5.8944 - accuracy: 0.0472\n",
            "Epoch 18/100\n",
            "484/484 [==============================] - 7s 14ms/step - loss: 5.8718 - accuracy: 0.0478\n",
            "Epoch 19/100\n",
            "484/484 [==============================] - 7s 14ms/step - loss: 5.8674 - accuracy: 0.0475\n",
            "Epoch 20/100\n",
            "484/484 [==============================] - 7s 14ms/step - loss: 5.8268 - accuracy: 0.0508\n",
            "Epoch 21/100\n",
            "484/484 [==============================] - 7s 14ms/step - loss: 5.8047 - accuracy: 0.0506\n",
            "Epoch 22/100\n",
            "484/484 [==============================] - 7s 14ms/step - loss: 5.7934 - accuracy: 0.0521\n",
            "Epoch 23/100\n",
            "484/484 [==============================] - 7s 15ms/step - loss: 5.7671 - accuracy: 0.0541\n",
            "Epoch 24/100\n",
            "484/484 [==============================] - 7s 15ms/step - loss: 5.7510 - accuracy: 0.0571\n",
            "Epoch 25/100\n",
            "484/484 [==============================] - 7s 15ms/step - loss: 5.7447 - accuracy: 0.0560\n",
            "Epoch 26/100\n",
            "484/484 [==============================] - 7s 15ms/step - loss: 5.7318 - accuracy: 0.0563\n",
            "Epoch 27/100\n",
            "484/484 [==============================] - 7s 15ms/step - loss: 5.7056 - accuracy: 0.0578\n",
            "Epoch 28/100\n",
            "484/484 [==============================] - 7s 14ms/step - loss: 5.6978 - accuracy: 0.0571\n",
            "Epoch 29/100\n",
            "484/484 [==============================] - 7s 14ms/step - loss: 5.6731 - accuracy: 0.0600\n",
            "Epoch 30/100\n",
            "484/484 [==============================] - 7s 15ms/step - loss: 5.6650 - accuracy: 0.0579\n",
            "Epoch 31/100\n",
            "484/484 [==============================] - 7s 15ms/step - loss: 5.6661 - accuracy: 0.0602\n",
            "Epoch 32/100\n",
            "484/484 [==============================] - 7s 14ms/step - loss: 5.6517 - accuracy: 0.0592\n",
            "Epoch 33/100\n",
            "484/484 [==============================] - 7s 15ms/step - loss: 5.6381 - accuracy: 0.0594\n",
            "Epoch 34/100\n",
            "484/484 [==============================] - 7s 14ms/step - loss: 5.6169 - accuracy: 0.0603\n",
            "Epoch 35/100\n",
            "484/484 [==============================] - 7s 15ms/step - loss: 5.6034 - accuracy: 0.0612\n",
            "Epoch 36/100\n",
            "484/484 [==============================] - 7s 15ms/step - loss: 5.6001 - accuracy: 0.0611\n",
            "Epoch 37/100\n",
            "484/484 [==============================] - 7s 15ms/step - loss: 5.5972 - accuracy: 0.0614\n",
            "Epoch 38/100\n",
            "484/484 [==============================] - 7s 14ms/step - loss: 5.5900 - accuracy: 0.0606\n",
            "Epoch 39/100\n",
            "484/484 [==============================] - 7s 14ms/step - loss: 5.5954 - accuracy: 0.0622\n",
            "Epoch 40/100\n",
            "484/484 [==============================] - 7s 14ms/step - loss: 5.5826 - accuracy: 0.0609\n",
            "Epoch 41/100\n",
            "484/484 [==============================] - 7s 14ms/step - loss: 5.5833 - accuracy: 0.0644\n",
            "Epoch 42/100\n",
            "484/484 [==============================] - 7s 15ms/step - loss: 5.5676 - accuracy: 0.0615\n",
            "Epoch 43/100\n",
            "484/484 [==============================] - 7s 15ms/step - loss: 5.5590 - accuracy: 0.0634\n",
            "Epoch 44/100\n",
            "484/484 [==============================] - 7s 15ms/step - loss: 5.5655 - accuracy: 0.0632\n",
            "Epoch 45/100\n",
            "484/484 [==============================] - 7s 15ms/step - loss: 5.5566 - accuracy: 0.0611\n",
            "Epoch 46/100\n",
            "484/484 [==============================] - 7s 15ms/step - loss: 5.5420 - accuracy: 0.0652\n",
            "Epoch 47/100\n",
            "484/484 [==============================] - 7s 14ms/step - loss: 5.5524 - accuracy: 0.0622\n",
            "Epoch 48/100\n",
            "484/484 [==============================] - 7s 14ms/step - loss: 5.5523 - accuracy: 0.0614\n",
            "Epoch 49/100\n",
            "484/484 [==============================] - 7s 14ms/step - loss: 5.5497 - accuracy: 0.0613\n",
            "Epoch 50/100\n",
            "484/484 [==============================] - 7s 15ms/step - loss: 5.5653 - accuracy: 0.0630\n",
            "Epoch 51/100\n",
            "484/484 [==============================] - 7s 14ms/step - loss: 5.5475 - accuracy: 0.0639\n",
            "Epoch 52/100\n",
            "484/484 [==============================] - 7s 15ms/step - loss: 5.5585 - accuracy: 0.0637\n",
            "Epoch 53/100\n",
            "484/484 [==============================] - 7s 15ms/step - loss: 5.5452 - accuracy: 0.0645\n",
            "Epoch 54/100\n",
            "484/484 [==============================] - 7s 15ms/step - loss: 5.5293 - accuracy: 0.0656\n",
            "Epoch 55/100\n",
            "484/484 [==============================] - 7s 14ms/step - loss: 5.5307 - accuracy: 0.0645\n",
            "Epoch 56/100\n",
            "484/484 [==============================] - 7s 14ms/step - loss: 5.5323 - accuracy: 0.0646\n",
            "Epoch 57/100\n",
            "484/484 [==============================] - 7s 14ms/step - loss: 5.5409 - accuracy: 0.0649\n",
            "Epoch 58/100\n",
            "484/484 [==============================] - 6s 13ms/step - loss: 5.5307 - accuracy: 0.0651\n",
            "Epoch 59/100\n",
            "484/484 [==============================] - 7s 13ms/step - loss: 5.5482 - accuracy: 0.0644\n",
            "Epoch 60/100\n",
            "484/484 [==============================] - 6s 13ms/step - loss: 5.5357 - accuracy: 0.0647\n",
            "Epoch 61/100\n",
            "484/484 [==============================] - 7s 14ms/step - loss: 5.5262 - accuracy: 0.0649\n",
            "Epoch 62/100\n",
            "484/484 [==============================] - 7s 14ms/step - loss: 5.5324 - accuracy: 0.0663\n",
            "Epoch 63/100\n",
            "484/484 [==============================] - 7s 14ms/step - loss: 5.5287 - accuracy: 0.0640\n",
            "Epoch 64/100\n",
            "484/484 [==============================] - 7s 14ms/step - loss: 5.5107 - accuracy: 0.0657\n",
            "Epoch 65/100\n",
            "484/484 [==============================] - 7s 14ms/step - loss: 5.5239 - accuracy: 0.0650\n",
            "Epoch 66/100\n",
            "484/484 [==============================] - 7s 14ms/step - loss: 5.5015 - accuracy: 0.0666\n",
            "Epoch 67/100\n",
            "484/484 [==============================] - 7s 14ms/step - loss: 5.5044 - accuracy: 0.0652\n",
            "Epoch 68/100\n",
            "484/484 [==============================] - 7s 14ms/step - loss: 5.5227 - accuracy: 0.0652\n",
            "Epoch 69/100\n",
            "484/484 [==============================] - 7s 14ms/step - loss: 5.5279 - accuracy: 0.0636\n",
            "Epoch 70/100\n",
            "484/484 [==============================] - 6s 13ms/step - loss: 5.5366 - accuracy: 0.0640\n",
            "Epoch 71/100\n",
            "484/484 [==============================] - 7s 14ms/step - loss: 5.5062 - accuracy: 0.0676\n",
            "Epoch 72/100\n",
            "484/484 [==============================] - 7s 14ms/step - loss: 5.5185 - accuracy: 0.0678\n",
            "Epoch 73/100\n",
            "484/484 [==============================] - 7s 14ms/step - loss: 5.5321 - accuracy: 0.0649\n",
            "Epoch 74/100\n",
            "484/484 [==============================] - 7s 14ms/step - loss: 5.4977 - accuracy: 0.0640\n",
            "Epoch 75/100\n",
            "484/484 [==============================] - 7s 14ms/step - loss: 5.4913 - accuracy: 0.0642\n",
            "Epoch 76/100\n",
            "484/484 [==============================] - 7s 14ms/step - loss: 5.4939 - accuracy: 0.0677\n",
            "Epoch 77/100\n",
            "484/484 [==============================] - 7s 14ms/step - loss: 5.5049 - accuracy: 0.0659\n",
            "Epoch 78/100\n",
            "484/484 [==============================] - 6s 13ms/step - loss: 5.5069 - accuracy: 0.0673\n",
            "Epoch 79/100\n",
            "484/484 [==============================] - 7s 14ms/step - loss: 5.4983 - accuracy: 0.0690\n",
            "Epoch 80/100\n",
            "484/484 [==============================] - 7s 14ms/step - loss: 5.5068 - accuracy: 0.0655\n",
            "Epoch 81/100\n",
            "484/484 [==============================] - 7s 14ms/step - loss: 5.4964 - accuracy: 0.0672\n",
            "Epoch 82/100\n",
            "484/484 [==============================] - 7s 14ms/step - loss: 5.4883 - accuracy: 0.0662\n",
            "Epoch 83/100\n",
            "484/484 [==============================] - 7s 14ms/step - loss: 5.5084 - accuracy: 0.0688\n",
            "Epoch 84/100\n",
            "484/484 [==============================] - 7s 14ms/step - loss: 5.5120 - accuracy: 0.0655\n",
            "Epoch 85/100\n",
            "484/484 [==============================] - 7s 14ms/step - loss: 5.4920 - accuracy: 0.0665\n",
            "Epoch 86/100\n",
            "484/484 [==============================] - 6s 13ms/step - loss: 5.4994 - accuracy: 0.0662\n",
            "Epoch 87/100\n",
            "484/484 [==============================] - 7s 14ms/step - loss: 5.4997 - accuracy: 0.0686\n",
            "Epoch 88/100\n",
            "484/484 [==============================] - 7s 14ms/step - loss: 5.4920 - accuracy: 0.0647\n",
            "Epoch 89/100\n",
            "484/484 [==============================] - 7s 14ms/step - loss: 5.4937 - accuracy: 0.0664\n",
            "Epoch 90/100\n",
            "484/484 [==============================] - 7s 15ms/step - loss: 5.4995 - accuracy: 0.0637\n",
            "Epoch 91/100\n",
            "484/484 [==============================] - 7s 15ms/step - loss: 5.5052 - accuracy: 0.0635\n",
            "Epoch 92/100\n",
            "484/484 [==============================] - 7s 15ms/step - loss: 5.5108 - accuracy: 0.0658\n",
            "Epoch 93/100\n",
            "484/484 [==============================] - 7s 14ms/step - loss: 5.4943 - accuracy: 0.0662\n",
            "Epoch 94/100\n",
            "484/484 [==============================] - 7s 14ms/step - loss: 5.5287 - accuracy: 0.0659\n",
            "Epoch 95/100\n",
            "484/484 [==============================] - 7s 14ms/step - loss: 5.4888 - accuracy: 0.0679\n",
            "Epoch 96/100\n",
            "484/484 [==============================] - 7s 15ms/step - loss: 5.4960 - accuracy: 0.0680\n",
            "Epoch 97/100\n",
            "484/484 [==============================] - 7s 14ms/step - loss: 5.5013 - accuracy: 0.0666\n",
            "Epoch 98/100\n",
            "484/484 [==============================] - 8s 16ms/step - loss: 5.4937 - accuracy: 0.0660\n",
            "Epoch 99/100\n",
            "484/484 [==============================] - 8s 16ms/step - loss: 5.4859 - accuracy: 0.0689\n",
            "Epoch 100/100\n",
            "484/484 [==============================] - 7s 14ms/step - loss: 5.4848 - accuracy: 0.0675\n"
          ],
          "name": "stdout"
        }
      ]
    },
    {
      "cell_type": "code",
      "metadata": {
        "id": "35-K8gF_KBIQ",
        "colab_type": "code",
        "colab": {
          "base_uri": "https://localhost:8080/",
          "height": 545
        },
        "outputId": "4f458466-1562-43ee-9978-7737ddca2241"
      },
      "source": [
        "acc = history.history['accuracy']\n",
        "loss = history.history['loss']\n",
        "\n",
        "epochs = range(len(acc))\n",
        "\n",
        "plt.plot(epochs, acc, 'b', label='Training accuracy')\n",
        "plt.title('Training accuracy')\n",
        "\n",
        "plt.figure()\n",
        "\n",
        "plt.plot(epochs, loss, 'b', label='Training Loss')\n",
        "plt.title('Training loss')\n",
        "plt.legend()\n",
        "\n",
        "plt.show()"
      ],
      "execution_count": 20,
      "outputs": [
        {
          "output_type": "display_data",
          "data": {
            "image/png": "[encoded data removed]",
            "text/plain": [
              "<Figure size 432x288 with 1 Axes>"
            ]
          },
          "metadata": {
            "tags": [],
            "needs_background": "light"
          }
        },
        {
          "output_type": "display_data",
          "data": {
            "image/png": "[encoded data removed]",
            "text/plain": [
              "<Figure size 432x288 with 1 Axes>"
            ]
          },
          "metadata": {
            "tags": [],
            "needs_background": "light"
          }
        }
      ]
    },
    {
      "cell_type": "code",
      "metadata": {
        "id": "agRAmEoGOLtX",
        "colab_type": "code",
        "colab": {
          "base_uri": "https://localhost:8080/",
          "height": 54
        },
        "outputId": "fb45b7b4-c05a-4fe5-8e5d-4663247ffd0e"
      },
      "source": [
        "seed_text = \"Help me Obi Wan Kenobi, you're my only hope\"\n",
        "next_words = 100\n",
        "  \n",
        "for _ in range(next_words):\n",
        "\ttoken_list = tokenizer.texts_to_sequences([seed_text])[0]\n",
        "\ttoken_list = pad_sequences([token_list], maxlen=max_sequence_len-1, padding='pre')\n",
        "\tpredicted = model.predict_classes(token_list, verbose=0)\n",
        "\toutput_word = \"\"\n",
        "\tfor word, index in tokenizer.word_index.items():\n",
        "\t\tif index == predicted:\n",
        "\t\t\toutput_word = word\n",
        "\t\t\tbreak\n",
        "\tseed_text += \" \" + output_word\n",
        "print(seed_text)"
      ],
      "execution_count": 21,
      "outputs": [
        {
          "output_type": "stream",
          "text": [
            "Help me Obi Wan Kenobi, you're my only hope and my love and my love and my love and my love and my love and my love and my love and my love and my love and my love and my love and my love and my love and my love and my love and my love and my love and my love and my love and my love and my love and my love and my love and my love and my love and my love and my love and my love and my love and my love and my love and my love and my love and\n"
          ],
          "name": "stdout"
        }
      ]
    },
    {
      "cell_type": "code",
      "metadata": {
        "id": "PDCnm0mdOSRY",
        "colab_type": "code",
        "colab": {}
      },
      "source": [
        ""
      ],
      "execution_count": null,
      "outputs": []
    }
  ]
}